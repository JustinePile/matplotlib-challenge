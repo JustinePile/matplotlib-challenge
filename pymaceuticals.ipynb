{
  "cells": [
    {
      "cell_type": "markdown",
      "metadata": {
        "id": "iqK0LGXRP37b"
      },
      "source": [
        "# Pymaceuticals Inc.\n",
        "---\n",
        "\n",
        "### Analysis\n",
        "\n",
        "- Add your analysis here.\n",
        " "
      ]
    },
    {
      "cell_type": "code",
      "execution_count": null,
      "metadata": {
        "id": "jiyAzIi6P37g",
        "outputId": "a6057707-4c6c-4bdb-cc06-deb24523d1a6"
      },
      "outputs": [
        {
          "data": {
            "text/html": [
              "<div>\n",
              "<style scoped>\n",
              "    .dataframe tbody tr th:only-of-type {\n",
              "        vertical-align: middle;\n",
              "    }\n",
              "\n",
              "    .dataframe tbody tr th {\n",
              "        vertical-align: top;\n",
              "    }\n",
              "\n",
              "    .dataframe thead th {\n",
              "        text-align: right;\n",
              "    }\n",
              "</style>\n",
              "<table border=\"1\" class=\"dataframe\">\n",
              "  <thead>\n",
              "    <tr style=\"text-align: right;\">\n",
              "      <th></th>\n",
              "      <th>Mouse ID</th>\n",
              "      <th>Drug Regimen</th>\n",
              "      <th>Sex</th>\n",
              "      <th>Age_months</th>\n",
              "      <th>Weight (g)</th>\n",
              "      <th>Timepoint</th>\n",
              "      <th>Tumor Volume (mm3)</th>\n",
              "      <th>Metastatic Sites</th>\n",
              "    </tr>\n",
              "  </thead>\n",
              "  <tbody>\n",
              "    <tr>\n",
              "      <th>0</th>\n",
              "      <td>k403</td>\n",
              "      <td>Ramicane</td>\n",
              "      <td>Male</td>\n",
              "      <td>21</td>\n",
              "      <td>16</td>\n",
              "      <td>0</td>\n",
              "      <td>45.000000</td>\n",
              "      <td>0</td>\n",
              "    </tr>\n",
              "    <tr>\n",
              "      <th>1</th>\n",
              "      <td>k403</td>\n",
              "      <td>Ramicane</td>\n",
              "      <td>Male</td>\n",
              "      <td>21</td>\n",
              "      <td>16</td>\n",
              "      <td>5</td>\n",
              "      <td>38.825898</td>\n",
              "      <td>0</td>\n",
              "    </tr>\n",
              "    <tr>\n",
              "      <th>2</th>\n",
              "      <td>k403</td>\n",
              "      <td>Ramicane</td>\n",
              "      <td>Male</td>\n",
              "      <td>21</td>\n",
              "      <td>16</td>\n",
              "      <td>10</td>\n",
              "      <td>35.014271</td>\n",
              "      <td>1</td>\n",
              "    </tr>\n",
              "    <tr>\n",
              "      <th>3</th>\n",
              "      <td>k403</td>\n",
              "      <td>Ramicane</td>\n",
              "      <td>Male</td>\n",
              "      <td>21</td>\n",
              "      <td>16</td>\n",
              "      <td>15</td>\n",
              "      <td>34.223992</td>\n",
              "      <td>1</td>\n",
              "    </tr>\n",
              "    <tr>\n",
              "      <th>4</th>\n",
              "      <td>k403</td>\n",
              "      <td>Ramicane</td>\n",
              "      <td>Male</td>\n",
              "      <td>21</td>\n",
              "      <td>16</td>\n",
              "      <td>20</td>\n",
              "      <td>32.997729</td>\n",
              "      <td>1</td>\n",
              "    </tr>\n",
              "  </tbody>\n",
              "</table>\n",
              "</div>"
            ],
            "text/plain": [
              "  Mouse ID Drug Regimen   Sex  Age_months  Weight (g)  Timepoint  \\\n",
              "0     k403     Ramicane  Male          21          16          0   \n",
              "1     k403     Ramicane  Male          21          16          5   \n",
              "2     k403     Ramicane  Male          21          16         10   \n",
              "3     k403     Ramicane  Male          21          16         15   \n",
              "4     k403     Ramicane  Male          21          16         20   \n",
              "\n",
              "   Tumor Volume (mm3)  Metastatic Sites  \n",
              "0           45.000000                 0  \n",
              "1           38.825898                 0  \n",
              "2           35.014271                 1  \n",
              "3           34.223992                 1  \n",
              "4           32.997729                 1  "
            ]
          },
          "execution_count": 1,
          "metadata": {},
          "output_type": "execute_result"
        }
      ],
      "source": [
        "# Dependencies and Setup\n",
        "import matplotlib.pyplot as plt\n",
        "import pandas as pd\n",
        "import scipy.stats as st\n",
        "import numpy as np\n",
        "\n",
        "# Data files\n",
        "mouse_metadata_path = \"data/Mouse_metadata.csv\"\n",
        "study_results_path = \"data/Study_results.csv\"\n",
        "\n",
        "# Read the mouse data and the study results\n",
        "mouse_metadata = pd.read_csv(mouse_metadata_path)\n",
        "study_results = pd.read_csv(study_results_path)\n",
        "\n",
        "# Combine the data into a single dataset\n",
        "merged_df = pd.merge(mouse_metadata, study_results, on=\"Mouse ID\")\n",
        "\n",
        "# Display the data table for preview\n",
        "merged_df.head()"
      ]
    },
    {
      "cell_type": "code",
      "execution_count": null,
      "metadata": {
        "id": "KMh8zj58P37i",
        "outputId": "982633f7-930c-4915-9573-06d7e8afb363"
      },
      "outputs": [
        {
          "data": {
            "text/plain": [
              "249"
            ]
          },
          "execution_count": 2,
          "metadata": {},
          "output_type": "execute_result"
        }
      ],
      "source": [
        "# Check the number of mice\n",
        "num_mice = merged_df[\"Mouse ID\"].nunique()\n",
        "num_mice"
      ]
    },
    {
      "cell_type": "code",
      "execution_count": null,
      "metadata": {
        "id": "_dKLGWZHP37i",
        "outputId": "fb24a754-313f-4602-8887-ce8022e8767d"
      },
      "outputs": [
        {
          "data": {
            "text/plain": [
              "array(['g989'], dtype=object)"
            ]
          },
          "execution_count": 3,
          "metadata": {},
          "output_type": "execute_result"
        }
      ],
      "source": [
        "# Get the duplicate mice by ID number that shows up for Mouse ID and Timepoint\n",
        "duplicate_mice = merged_df.loc[merged_df.duplicated([\"Mouse ID\", \"Timepoint\"]), \"Mouse ID\"].unique()\n",
        "duplicate_mice"
      ]
    },
    {
      "cell_type": "code",
      "execution_count": null,
      "metadata": {
        "id": "tmAHxdUZP37j",
        "outputId": "c23b1a40-08d8-4db6-fcbd-39f7ce45ccbc"
      },
      "outputs": [
        {
          "data": {
            "text/html": [
              "<div>\n",
              "<style scoped>\n",
              "    .dataframe tbody tr th:only-of-type {\n",
              "        vertical-align: middle;\n",
              "    }\n",
              "\n",
              "    .dataframe tbody tr th {\n",
              "        vertical-align: top;\n",
              "    }\n",
              "\n",
              "    .dataframe thead th {\n",
              "        text-align: right;\n",
              "    }\n",
              "</style>\n",
              "<table border=\"1\" class=\"dataframe\">\n",
              "  <thead>\n",
              "    <tr style=\"text-align: right;\">\n",
              "      <th></th>\n",
              "      <th>Mouse ID</th>\n",
              "      <th>Drug Regimen</th>\n",
              "      <th>Sex</th>\n",
              "      <th>Age_months</th>\n",
              "      <th>Weight (g)</th>\n",
              "      <th>Timepoint</th>\n",
              "      <th>Tumor Volume (mm3)</th>\n",
              "      <th>Metastatic Sites</th>\n",
              "    </tr>\n",
              "  </thead>\n",
              "  <tbody>\n",
              "    <tr>\n",
              "      <th>0</th>\n",
              "      <td>k403</td>\n",
              "      <td>Ramicane</td>\n",
              "      <td>Male</td>\n",
              "      <td>21</td>\n",
              "      <td>16</td>\n",
              "      <td>0</td>\n",
              "      <td>45.000000</td>\n",
              "      <td>0</td>\n",
              "    </tr>\n",
              "    <tr>\n",
              "      <th>1</th>\n",
              "      <td>k403</td>\n",
              "      <td>Ramicane</td>\n",
              "      <td>Male</td>\n",
              "      <td>21</td>\n",
              "      <td>16</td>\n",
              "      <td>5</td>\n",
              "      <td>38.825898</td>\n",
              "      <td>0</td>\n",
              "    </tr>\n",
              "    <tr>\n",
              "      <th>2</th>\n",
              "      <td>k403</td>\n",
              "      <td>Ramicane</td>\n",
              "      <td>Male</td>\n",
              "      <td>21</td>\n",
              "      <td>16</td>\n",
              "      <td>10</td>\n",
              "      <td>35.014271</td>\n",
              "      <td>1</td>\n",
              "    </tr>\n",
              "    <tr>\n",
              "      <th>3</th>\n",
              "      <td>k403</td>\n",
              "      <td>Ramicane</td>\n",
              "      <td>Male</td>\n",
              "      <td>21</td>\n",
              "      <td>16</td>\n",
              "      <td>15</td>\n",
              "      <td>34.223992</td>\n",
              "      <td>1</td>\n",
              "    </tr>\n",
              "    <tr>\n",
              "      <th>4</th>\n",
              "      <td>k403</td>\n",
              "      <td>Ramicane</td>\n",
              "      <td>Male</td>\n",
              "      <td>21</td>\n",
              "      <td>16</td>\n",
              "      <td>20</td>\n",
              "      <td>32.997729</td>\n",
              "      <td>1</td>\n",
              "    </tr>\n",
              "  </tbody>\n",
              "</table>\n",
              "</div>"
            ],
            "text/plain": [
              "  Mouse ID Drug Regimen   Sex  Age_months  Weight (g)  Timepoint  \\\n",
              "0     k403     Ramicane  Male          21          16          0   \n",
              "1     k403     Ramicane  Male          21          16          5   \n",
              "2     k403     Ramicane  Male          21          16         10   \n",
              "3     k403     Ramicane  Male          21          16         15   \n",
              "4     k403     Ramicane  Male          21          16         20   \n",
              "\n",
              "   Tumor Volume (mm3)  Metastatic Sites  \n",
              "0           45.000000                 0  \n",
              "1           38.825898                 0  \n",
              "2           35.014271                 1  \n",
              "3           34.223992                 1  \n",
              "4           32.997729                 1  "
            ]
          },
          "execution_count": 4,
          "metadata": {},
          "output_type": "execute_result"
        }
      ],
      "source": [
        "# Create a clean DataFrame by dropping the duplicate mouse by its ID\n",
        "clean_df = merged_df[~merged_df[\"Mouse ID\"].isin(duplicate_mice)]\n",
        "clean_df.head()"
      ]
    },
    {
      "cell_type": "code",
      "execution_count": null,
      "metadata": {
        "id": "cp8_9FCcP37j",
        "outputId": "65971c24-9e13-4df7-b0fc-732b1b58a1b9"
      },
      "outputs": [
        {
          "data": {
            "text/plain": [
              "248"
            ]
          },
          "execution_count": 5,
          "metadata": {},
          "output_type": "execute_result"
        }
      ],
      "source": [
        "# Check the number of mice in the clean DataFrame\n",
        "num_clean = clean_df[\"Mouse ID\"].nunique()\n",
        "num_clean"
      ]
    },
    {
      "cell_type": "markdown",
      "metadata": {
        "id": "pnW_WQGvP37k"
      },
      "source": [
        "## Summary Statistics"
      ]
    },
    {
      "cell_type": "code",
      "execution_count": null,
      "metadata": {
        "id": "Pf5jNYOHP37k",
        "outputId": "5eb87379-1ea9-4c1d-bbdc-db06f3241f92"
      },
      "outputs": [
        {
          "data": {
            "text/html": [
              "<div>\n",
              "<style scoped>\n",
              "    .dataframe tbody tr th:only-of-type {\n",
              "        vertical-align: middle;\n",
              "    }\n",
              "\n",
              "    .dataframe tbody tr th {\n",
              "        vertical-align: top;\n",
              "    }\n",
              "\n",
              "    .dataframe thead th {\n",
              "        text-align: right;\n",
              "    }\n",
              "</style>\n",
              "<table border=\"1\" class=\"dataframe\">\n",
              "  <thead>\n",
              "    <tr style=\"text-align: right;\">\n",
              "      <th></th>\n",
              "      <th>Mean Tumor Volume</th>\n",
              "      <th>Median Tumor Volume</th>\n",
              "      <th>Tumor Volume Variance</th>\n",
              "      <th>Tumor Volume Standard Deviation</th>\n",
              "      <th>Tumor Volume Std. Error</th>\n",
              "    </tr>\n",
              "    <tr>\n",
              "      <th>Drug Regimen</th>\n",
              "      <th></th>\n",
              "      <th></th>\n",
              "      <th></th>\n",
              "      <th></th>\n",
              "      <th></th>\n",
              "    </tr>\n",
              "  </thead>\n",
              "  <tbody>\n",
              "    <tr>\n",
              "      <th>Capomulin</th>\n",
              "      <td>40.675741</td>\n",
              "      <td>41.557809</td>\n",
              "      <td>24.947764</td>\n",
              "      <td>4.994774</td>\n",
              "      <td>0.329346</td>\n",
              "    </tr>\n",
              "    <tr>\n",
              "      <th>Ceftamin</th>\n",
              "      <td>52.591172</td>\n",
              "      <td>51.776157</td>\n",
              "      <td>39.290177</td>\n",
              "      <td>6.268188</td>\n",
              "      <td>0.469821</td>\n",
              "    </tr>\n",
              "    <tr>\n",
              "      <th>Infubinol</th>\n",
              "      <td>52.884795</td>\n",
              "      <td>51.820584</td>\n",
              "      <td>43.128684</td>\n",
              "      <td>6.567243</td>\n",
              "      <td>0.492236</td>\n",
              "    </tr>\n",
              "    <tr>\n",
              "      <th>Ketapril</th>\n",
              "      <td>55.235638</td>\n",
              "      <td>53.698743</td>\n",
              "      <td>68.553577</td>\n",
              "      <td>8.279709</td>\n",
              "      <td>0.603860</td>\n",
              "    </tr>\n",
              "    <tr>\n",
              "      <th>Naftisol</th>\n",
              "      <td>54.331565</td>\n",
              "      <td>52.509285</td>\n",
              "      <td>66.173479</td>\n",
              "      <td>8.134708</td>\n",
              "      <td>0.596466</td>\n",
              "    </tr>\n",
              "    <tr>\n",
              "      <th>Placebo</th>\n",
              "      <td>54.033581</td>\n",
              "      <td>52.288934</td>\n",
              "      <td>61.168083</td>\n",
              "      <td>7.821003</td>\n",
              "      <td>0.581331</td>\n",
              "    </tr>\n",
              "    <tr>\n",
              "      <th>Propriva</th>\n",
              "      <td>52.320930</td>\n",
              "      <td>50.446266</td>\n",
              "      <td>43.852013</td>\n",
              "      <td>6.622085</td>\n",
              "      <td>0.544332</td>\n",
              "    </tr>\n",
              "    <tr>\n",
              "      <th>Ramicane</th>\n",
              "      <td>40.216745</td>\n",
              "      <td>40.673236</td>\n",
              "      <td>23.486704</td>\n",
              "      <td>4.846308</td>\n",
              "      <td>0.320955</td>\n",
              "    </tr>\n",
              "    <tr>\n",
              "      <th>Stelasyn</th>\n",
              "      <td>54.233149</td>\n",
              "      <td>52.431737</td>\n",
              "      <td>59.450562</td>\n",
              "      <td>7.710419</td>\n",
              "      <td>0.573111</td>\n",
              "    </tr>\n",
              "    <tr>\n",
              "      <th>Zoniferol</th>\n",
              "      <td>53.236507</td>\n",
              "      <td>51.818479</td>\n",
              "      <td>48.533355</td>\n",
              "      <td>6.966589</td>\n",
              "      <td>0.516398</td>\n",
              "    </tr>\n",
              "  </tbody>\n",
              "</table>\n",
              "</div>"
            ],
            "text/plain": [
              "              Mean Tumor Volume  Median Tumor Volume  Tumor Volume Variance  \\\n",
              "Drug Regimen                                                                  \n",
              "Capomulin             40.675741            41.557809              24.947764   \n",
              "Ceftamin              52.591172            51.776157              39.290177   \n",
              "Infubinol             52.884795            51.820584              43.128684   \n",
              "Ketapril              55.235638            53.698743              68.553577   \n",
              "Naftisol              54.331565            52.509285              66.173479   \n",
              "Placebo               54.033581            52.288934              61.168083   \n",
              "Propriva              52.320930            50.446266              43.852013   \n",
              "Ramicane              40.216745            40.673236              23.486704   \n",
              "Stelasyn              54.233149            52.431737              59.450562   \n",
              "Zoniferol             53.236507            51.818479              48.533355   \n",
              "\n",
              "              Tumor Volume Standard Deviation  Tumor Volume Std. Error  \n",
              "Drug Regimen                                                            \n",
              "Capomulin                            4.994774                 0.329346  \n",
              "Ceftamin                             6.268188                 0.469821  \n",
              "Infubinol                            6.567243                 0.492236  \n",
              "Ketapril                             8.279709                 0.603860  \n",
              "Naftisol                             8.134708                 0.596466  \n",
              "Placebo                              7.821003                 0.581331  \n",
              "Propriva                             6.622085                 0.544332  \n",
              "Ramicane                             4.846308                 0.320955  \n",
              "Stelasyn                             7.710419                 0.573111  \n",
              "Zoniferol                            6.966589                 0.516398  "
            ]
          },
          "execution_count": 6,
          "metadata": {},
          "output_type": "execute_result"
        }
      ],
      "source": [
        "# Generate a summary statistics table of mean, median, variance, standard deviation, and SEM of the tumor volume for each regimen\n",
        "# Use groupby and summary statistical methods to calculate the following properties of each drug regimen: \n",
        "# mean, median, variance, standard deviation, and SEM of the tumor volume. \n",
        "# Assemble the resulting series into a single summary DataFrame.\n",
        "\n",
        "mean = clean_df[\"Tumor Volume (mm3)\"].groupby(clean_df[\"Drug Regimen\"]).mean()\n",
        "median = clean_df[\"Tumor Volume (mm3)\"].groupby(clean_df[\"Drug Regimen\"]).median()\n",
        "var = clean_df[\"Tumor Volume (mm3)\"].groupby(clean_df[\"Drug Regimen\"]).var()\n",
        "std_dev = clean_df[\"Tumor Volume (mm3)\"].groupby(clean_df[\"Drug Regimen\"]).std()\n",
        "SEM = clean_df[\"Tumor Volume (mm3)\"].groupby(clean_df[\"Drug Regimen\"]).sem()\n",
        "\n",
        "summary_stats = pd.DataFrame({\"Mean Tumor Volume\":mean, \"Median Tumor Volume\":median, \n",
        "                              \"Tumor Volume Variance\":var, \"Tumor Volume Standard Deviation\":std_dev, \n",
        "                              \"Tumor Volume Std. Error\":SEM})\n",
        "\n",
        "summary_stats"
      ]
    },
    {
      "cell_type": "code",
      "execution_count": null,
      "metadata": {
        "id": "7CoY2iANP37l",
        "outputId": "35ededec-3810-4639-dbf4-4cb72ee1dcb7"
      },
      "outputs": [
        {
          "data": {
            "text/html": [
              "<div>\n",
              "<style scoped>\n",
              "    .dataframe tbody tr th:only-of-type {\n",
              "        vertical-align: middle;\n",
              "    }\n",
              "\n",
              "    .dataframe tbody tr th {\n",
              "        vertical-align: top;\n",
              "    }\n",
              "\n",
              "    .dataframe thead tr th {\n",
              "        text-align: left;\n",
              "    }\n",
              "\n",
              "    .dataframe thead tr:last-of-type th {\n",
              "        text-align: right;\n",
              "    }\n",
              "</style>\n",
              "<table border=\"1\" class=\"dataframe\">\n",
              "  <thead>\n",
              "    <tr>\n",
              "      <th></th>\n",
              "      <th colspan=\"5\" halign=\"left\">Tumor Volume (mm3)</th>\n",
              "    </tr>\n",
              "    <tr>\n",
              "      <th></th>\n",
              "      <th>Mean Tumor Volume</th>\n",
              "      <th>Median Tumor Volume</th>\n",
              "      <th>Tumor Volume Variance</th>\n",
              "      <th>Tumor Volume Standard Deviation</th>\n",
              "      <th>Tumor Volume Std. Error</th>\n",
              "    </tr>\n",
              "    <tr>\n",
              "      <th>Drug Regimen</th>\n",
              "      <th></th>\n",
              "      <th></th>\n",
              "      <th></th>\n",
              "      <th></th>\n",
              "      <th></th>\n",
              "    </tr>\n",
              "  </thead>\n",
              "  <tbody>\n",
              "    <tr>\n",
              "      <th>Capomulin</th>\n",
              "      <td>40.675741</td>\n",
              "      <td>41.557809</td>\n",
              "      <td>24.947764</td>\n",
              "      <td>4.994774</td>\n",
              "      <td>0.329346</td>\n",
              "    </tr>\n",
              "    <tr>\n",
              "      <th>Ceftamin</th>\n",
              "      <td>52.591172</td>\n",
              "      <td>51.776157</td>\n",
              "      <td>39.290177</td>\n",
              "      <td>6.268188</td>\n",
              "      <td>0.469821</td>\n",
              "    </tr>\n",
              "    <tr>\n",
              "      <th>Infubinol</th>\n",
              "      <td>52.884795</td>\n",
              "      <td>51.820584</td>\n",
              "      <td>43.128684</td>\n",
              "      <td>6.567243</td>\n",
              "      <td>0.492236</td>\n",
              "    </tr>\n",
              "    <tr>\n",
              "      <th>Ketapril</th>\n",
              "      <td>55.235638</td>\n",
              "      <td>53.698743</td>\n",
              "      <td>68.553577</td>\n",
              "      <td>8.279709</td>\n",
              "      <td>0.603860</td>\n",
              "    </tr>\n",
              "    <tr>\n",
              "      <th>Naftisol</th>\n",
              "      <td>54.331565</td>\n",
              "      <td>52.509285</td>\n",
              "      <td>66.173479</td>\n",
              "      <td>8.134708</td>\n",
              "      <td>0.596466</td>\n",
              "    </tr>\n",
              "    <tr>\n",
              "      <th>Placebo</th>\n",
              "      <td>54.033581</td>\n",
              "      <td>52.288934</td>\n",
              "      <td>61.168083</td>\n",
              "      <td>7.821003</td>\n",
              "      <td>0.581331</td>\n",
              "    </tr>\n",
              "    <tr>\n",
              "      <th>Propriva</th>\n",
              "      <td>52.320930</td>\n",
              "      <td>50.446266</td>\n",
              "      <td>43.852013</td>\n",
              "      <td>6.622085</td>\n",
              "      <td>0.544332</td>\n",
              "    </tr>\n",
              "    <tr>\n",
              "      <th>Ramicane</th>\n",
              "      <td>40.216745</td>\n",
              "      <td>40.673236</td>\n",
              "      <td>23.486704</td>\n",
              "      <td>4.846308</td>\n",
              "      <td>0.320955</td>\n",
              "    </tr>\n",
              "    <tr>\n",
              "      <th>Stelasyn</th>\n",
              "      <td>54.233149</td>\n",
              "      <td>52.431737</td>\n",
              "      <td>59.450562</td>\n",
              "      <td>7.710419</td>\n",
              "      <td>0.573111</td>\n",
              "    </tr>\n",
              "    <tr>\n",
              "      <th>Zoniferol</th>\n",
              "      <td>53.236507</td>\n",
              "      <td>51.818479</td>\n",
              "      <td>48.533355</td>\n",
              "      <td>6.966589</td>\n",
              "      <td>0.516398</td>\n",
              "    </tr>\n",
              "  </tbody>\n",
              "</table>\n",
              "</div>"
            ],
            "text/plain": [
              "             Tumor Volume (mm3)                                            \\\n",
              "              Mean Tumor Volume Median Tumor Volume Tumor Volume Variance   \n",
              "Drug Regimen                                                                \n",
              "Capomulin             40.675741           41.557809             24.947764   \n",
              "Ceftamin              52.591172           51.776157             39.290177   \n",
              "Infubinol             52.884795           51.820584             43.128684   \n",
              "Ketapril              55.235638           53.698743             68.553577   \n",
              "Naftisol              54.331565           52.509285             66.173479   \n",
              "Placebo               54.033581           52.288934             61.168083   \n",
              "Propriva              52.320930           50.446266             43.852013   \n",
              "Ramicane              40.216745           40.673236             23.486704   \n",
              "Stelasyn              54.233149           52.431737             59.450562   \n",
              "Zoniferol             53.236507           51.818479             48.533355   \n",
              "\n",
              "                                                                      \n",
              "             Tumor Volume Standard Deviation Tumor Volume Std. Error  \n",
              "Drug Regimen                                                          \n",
              "Capomulin                           4.994774                0.329346  \n",
              "Ceftamin                            6.268188                0.469821  \n",
              "Infubinol                           6.567243                0.492236  \n",
              "Ketapril                            8.279709                0.603860  \n",
              "Naftisol                            8.134708                0.596466  \n",
              "Placebo                             7.821003                0.581331  \n",
              "Propriva                            6.622085                0.544332  \n",
              "Ramicane                            4.846308                0.320955  \n",
              "Stelasyn                            7.710419                0.573111  \n",
              "Zoniferol                           6.966589                0.516398  "
            ]
          },
          "execution_count": 7,
          "metadata": {},
          "output_type": "execute_result"
        }
      ],
      "source": [
        "# Generate a summary statistics table of mean, median, variance, standard deviation, and SEM of the tumor volume for each regimen\n",
        "# Use the aggregation method to produce the same summary statistics in a single line.\n",
        "\n",
        "agg_sum_stats = clean_df.groupby(\"Drug Regimen\").agg({\"Tumor Volume (mm3)\": [(\"Mean Tumor Volume\", \"mean\"), \n",
        "                                                                             (\"Median Tumor Volume\", \"median\"), \n",
        "                                                                             (\"Tumor Volume Variance\", \"var\"), \n",
        "                                                                             (\"Tumor Volume Standard Deviation\", \"std\"),\n",
        "                                                                             (\"Tumor Volume Std. Error\", \"sem\")] })\n",
        "\n",
        "agg_sum_stats"
      ]
    },
    {
      "cell_type": "markdown",
      "metadata": {
        "id": "YD3B4B1MP37l"
      },
      "source": [
        "## Bar and Pie Charts"
      ]
    },
    {
      "cell_type": "code",
      "execution_count": null,
      "metadata": {
        "id": "KeNXYBGuP37m",
        "outputId": "56cbdff2-680e-4a81-8013-2b7e69142f44"
      },
      "outputs": [
        {
          "data": {
            "text/plain": [
              "<AxesSubplot:xlabel='Drug Regimen', ylabel='Number of Mice Treated'>"
            ]
          },
          "execution_count": 8,
          "metadata": {},
          "output_type": "execute_result"
        },
        {
          "data": {
            "image/png": "[encoded data removed]",
            "text/plain": [
              "<Figure size 640x480 with 1 Axes>"
            ]
          },
          "metadata": {},
          "output_type": "display_data"
        }
      ],
      "source": [
        "# Generate a bar plot showing the total number of timepoints for all mice tested for each drug regimen using Pandas\n",
        "num_mice_by_regimen = clean_df[\"Drug Regimen\"].value_counts()\n",
        "pandas_bar = num_mice_by_regimen.plot.bar()\n",
        "pandas_bar.set_xlabel(\"Drug Regimen\")\n",
        "pandas_bar.set_ylabel(\"Number of Mice Treated\")\n",
        "pandas_bar"
      ]
    },
    {
      "cell_type": "code",
      "execution_count": null,
      "metadata": {
        "id": "hHPeLgTqP37m",
        "outputId": "18a410f6-6616-4723-c523-b7b2880f3328"
      },
      "outputs": [
        {
          "data": {
            "image/png": "[encoded data removed]",
            "text/plain": [
              "<Figure size 640x480 with 1 Axes>"
            ]
          },
          "metadata": {},
          "output_type": "display_data"
        }
      ],
      "source": [
        "# Generate a bar plot showing the total number of timepoints for all mice tested for each drug regimen using pyplot\n",
        "x_axis = num_mice_by_regimen.index\n",
        "\n",
        "plt.bar(x_axis, num_mice_by_regimen)\n",
        "\n",
        "plt.xlabel(\"Drug Regimen\")\n",
        "plt.ylabel(\"Number of Mice Tested\")\n",
        "plt.xticks(rotation=\"vertical\")\n",
        "plt.show()"
      ]
    },
    {
      "cell_type": "code",
      "execution_count": null,
      "metadata": {
        "id": "u07AO6IVP37n",
        "outputId": "9797784d-21d6-434e-fbef-77d86aae8075"
      },
      "outputs": [
        {
          "data": {
            "text/plain": [
              "<AxesSubplot:ylabel='Sex'>"
            ]
          },
          "execution_count": 11,
          "metadata": {},
          "output_type": "execute_result"
        },
        {
          "data": {
            "image/png": "[encoded data removed]",
            "text/plain": [
              "<Figure size 640x480 with 1 Axes>"
            ]
          },
          "metadata": {},
          "output_type": "display_data"
        }
      ],
      "source": [
        "# Generate a pie plot showing the distribution of female versus male mice using Pandas\n",
        "mice_sex = clean_df[\"Sex\"].value_counts()\n",
        "pandas_pie = mice_sex.plot(kind=\"pie\", y=mice_sex, autopct='%1.0f%%')\n",
        "pandas_pie"
      ]
    },
    {
      "cell_type": "code",
      "execution_count": null,
      "metadata": {
        "id": "fGGioE1wP37n",
        "outputId": "1e99ac72-9ffb-4dc2-d2c1-d1a472d93062"
      },
      "outputs": [
        {
          "data": {
            "image/png": "[encoded data removed]",
            "text/plain": [
              "<Figure size 640x480 with 1 Axes>"
            ]
          },
          "metadata": {},
          "output_type": "display_data"
        }
      ],
      "source": [
        "# Generate a pie plot showing the distribution of female versus male mice using pyplot\n",
        "plt.pie(mice_sex, labels=mice_sex.index, autopct=\"%1.1f%%\")\n",
        "plt.ylabel(\"Sex\")\n",
        "plt.show()"
      ]
    },
    {
      "cell_type": "markdown",
      "metadata": {
        "id": "HGVyNfnOP37n"
      },
      "source": [
        "## Quartiles, Outliers and Boxplots"
      ]
    },
    {
      "cell_type": "code",
      "execution_count": null,
      "metadata": {
        "id": "O-bUG27tP37o"
      },
      "outputs": [],
      "source": [
        "# Calculate the final tumor volume of each mouse across four of the treatment regimens:  \n",
        "# Capomulin, Ramicane, Infubinol, and Ceftamin\n",
        "\n",
        "# Start by getting the last (greatest) timepoint for each mouse\n",
        "\n",
        "\n",
        "# Merge this group df with the original DataFrame to get the tumor volume at the last timepoint\n"
      ]
    },
    {
      "cell_type": "code",
      "execution_count": null,
      "metadata": {
        "id": "Hgr-X3SrP37o",
        "outputId": "3cefed86-7d07-4dd2-bccf-677927fee44a"
      },
      "outputs": [
        {
          "name": "stdout",
          "output_type": "stream",
          "text": [
            "Capomulin's potential outliers: Series([], Name: Tumor Volume (mm3), dtype: float64)\n",
            "Ramicane's potential outliers: Series([], Name: Tumor Volume (mm3), dtype: float64)\n",
            "Infubinol's potential outliers: 31    36.321346\n",
            "Name: Tumor Volume (mm3), dtype: float64\n",
            "Ceftamin's potential outliers: Series([], Name: Tumor Volume (mm3), dtype: float64)\n"
          ]
        }
      ],
      "source": [
        "# Put treatments into a list for for loop (and later for plot labels)\n",
        "\n",
        "\n",
        "# Create empty list to fill with tumor vol data (for plotting)\n",
        "\n",
        "\n",
        "# Calculate the IQR and quantitatively determine if there are any potential outliers. \n",
        "\n",
        "    \n",
        "    # Locate the rows which contain mice on each drug and get the tumor volumes\n",
        "    \n",
        "    \n",
        "    # add subset \n",
        "    \n",
        "    \n",
        "    # Determine outliers using upper and lower bounds\n",
        "    "
      ]
    },
    {
      "cell_type": "code",
      "execution_count": null,
      "metadata": {
        "id": "kA14d_b3P37o",
        "outputId": "289a2162-3e95-4b6f-b818-b1f6115b42a4"
      },
      "outputs": [
        {
          "data": {
            "image/png": "[encoded data removed]",
            "text/plain": [
              "<Figure size 432x288 with 1 Axes>"
            ]
          },
          "metadata": {
            "needs_background": "light"
          },
          "output_type": "display_data"
        }
      ],
      "source": [
        "# Generate a box plot that shows the distrubution of the tumor volume for each treatment group.\n",
        "\n"
      ]
    },
    {
      "cell_type": "markdown",
      "metadata": {
        "id": "xKIUJHAeP37o"
      },
      "source": [
        "## Line and Scatter Plots"
      ]
    },
    {
      "cell_type": "code",
      "execution_count": null,
      "metadata": {
        "id": "ZF7pz-2CP37p",
        "outputId": "a2d61e38-3ae8-49f9-d6cc-25bb1a8b50c9"
      },
      "outputs": [
        {
          "data": {
            "image/png": "[encoded data removed]",
            "text/plain": [
              "<Figure size 432x288 with 1 Axes>"
            ]
          },
          "metadata": {
            "needs_background": "light"
          },
          "output_type": "display_data"
        }
      ],
      "source": [
        "# Generate a line plot of tumor volume vs. time point for a mouse treated with Capomulin\n",
        "\n"
      ]
    },
    {
      "cell_type": "code",
      "execution_count": null,
      "metadata": {
        "id": "J2c7v9iMP37p",
        "outputId": "aa75b078-e77e-4b6f-f4e0-999a309f9fd2"
      },
      "outputs": [
        {
          "data": {
            "image/png": "[encoded data removed]",
            "text/plain": [
              "<Figure size 432x288 with 1 Axes>"
            ]
          },
          "metadata": {
            "needs_background": "light"
          },
          "output_type": "display_data"
        }
      ],
      "source": [
        "# Generate a scatter plot of average tumor volume vs. mouse weight for the Capomulin regimen\n",
        "\n"
      ]
    },
    {
      "cell_type": "markdown",
      "metadata": {
        "id": "lVSpv271P37p"
      },
      "source": [
        "## Correlation and Regression"
      ]
    },
    {
      "cell_type": "code",
      "execution_count": null,
      "metadata": {
        "id": "-DNTeC_uP37p",
        "outputId": "3dd674b1-7544-4f3d-9da3-0fcf099105f7"
      },
      "outputs": [
        {
          "name": "stdout",
          "output_type": "stream",
          "text": [
            "The correlation between mouse weight and the average tumor volume is 0.84\n"
          ]
        },
        {
          "data": {
            "image/png": "[encoded data removed]",
            "text/plain": [
              "<Figure size 432x288 with 1 Axes>"
            ]
          },
          "metadata": {
            "needs_background": "light"
          },
          "output_type": "display_data"
        }
      ],
      "source": [
        "# Calculate the correlation coefficient and linear regression model \n",
        "# for mouse weight and average tumor volume for the Capomulin regimen\n",
        "\n"
      ]
    },
    {
      "cell_type": "code",
      "execution_count": null,
      "metadata": {
        "id": "grpWdxetP37p"
      },
      "outputs": [],
      "source": []
    }
  ],
  "metadata": {
    "anaconda-cloud": {},
    "kernelspec": {
      "display_name": "PythonData",
      "language": "python",
      "name": "pythondata"
    },
    "language_info": {
      "codemirror_mode": {
        "name": "ipython",
        "version": 3
      },
      "file_extension": ".py",
      "mimetype": "text/x-python",
      "name": "python",
      "nbconvert_exporter": "python",
      "pygments_lexer": "ipython3",
      "version": "3.7.15"
    },
    "colab": {
      "provenance": []
    }
  },
  "nbformat": 4,
  "nbformat_minor": 0
}